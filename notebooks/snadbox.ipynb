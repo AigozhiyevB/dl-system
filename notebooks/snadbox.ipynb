{
 "cells": [
  {
   "cell_type": "code",
   "execution_count": null,
   "metadata": {},
   "outputs": [],
   "source": [
    "import torch\n",
    "from torch import nn\n",
    "import numpy as np\n",
    "from torch.utils.data import DataLoader, TensorDataset\n",
    "from sklearn.datasets import make_classification\n",
    "from sklearn.model_selection import train_test_split\n",
    "from sklearn.preprocessing import StandardScaler\n",
    "import numpy as np"
   ]
  },
  {
   "cell_type": "code",
   "execution_count": 2,
   "metadata": {},
   "outputs": [
    {
     "data": {
      "text/plain": [
       "tensor([[1, 2],\n",
       "        [3, 4]])"
      ]
     },
     "execution_count": 2,
     "metadata": {},
     "output_type": "execute_result"
    }
   ],
   "source": [
    "data = [[1, 2],[3, 4]]\n",
    "x_data = torch.tensor(data)\n",
    "x_data"
   ]
  },
  {
   "cell_type": "code",
   "execution_count": 12,
   "metadata": {},
   "outputs": [
    {
     "data": {
      "text/plain": [
       "tensor([[0.5088, 0.9414],\n",
       "        [0.5830, 0.9536]], dtype=torch.float16)"
      ]
     },
     "execution_count": 12,
     "metadata": {},
     "output_type": "execute_result"
    }
   ],
   "source": [
    "np_array = np.array(data)\n",
    "x_np = torch.from_numpy(np_array)\n",
    "x_ones = torch.ones_like(x_np)\n",
    "x_rand = torch.rand_like(x_ones, dtype=torch.float16)\n",
    "x_rand"
   ]
  },
  {
   "cell_type": "code",
   "execution_count": 41,
   "metadata": {},
   "outputs": [],
   "source": [
    "X, y = make_classification(n_samples=5000, n_features=30, random_state=42, n_classes=4, n_informative=18)\n",
    "X_train, X_test, y_train, y_test = train_test_split(X, y, test_size=0.2, stratify=y)\n",
    "scaler = StandardScaler()\n",
    "X_train = scaler.fit_transform(X_train)\n",
    "X_test = scaler.transform(X_test)\n",
    "\n",
    "X_train = torch.tensor(X_train, dtype=torch.float16)\n",
    "X_test = torch.tensor(X_test, dtype=torch.float16)\n",
    "y_train = torch.tensor(y_train, dtype=torch.long)\n",
    "y_test = torch.tensor(y_test, dtype=torch.long)"
   ]
  },
  {
   "cell_type": "code",
   "execution_count": 85,
   "metadata": {},
   "outputs": [],
   "source": [
    "class SimpleClassifier(nn.Module):\n",
    "    def __init__(self, hidden_dim=4, num_class=4, input_dim=30):\n",
    "        super().__init__()\n",
    "        self.net = nn.Sequential(\n",
    "            nn.Linear(input_dim, hidden_dim, dtype=torch.float16),\n",
    "            nn.ReLU(),\n",
    "            nn.Linear(hidden_dim, num_class, dtype=torch.float16)\n",
    "        )\n",
    "    \n",
    "    def forward(self, x):\n",
    "        return self.net(x)"
   ]
  },
  {
   "cell_type": "code",
   "execution_count": 89,
   "metadata": {},
   "outputs": [],
   "source": [
    "epochs=10\n",
    "batch_size=5000\n",
    "lr=0.0001\n",
    "\n",
    "train_dataset = TensorDataset(X_train, y_train)\n",
    "test_dataset = TensorDataset(X_test, y_test)\n",
    "train_dl, test_dl = DataLoader(train_dataset, batch_size=batch_size), DataLoader(test_dataset, batch_size=batch_size)"
   ]
  },
  {
   "cell_type": "code",
   "execution_count": 90,
   "metadata": {},
   "outputs": [
    {
     "name": "stdout",
     "output_type": "stream",
     "text": [
      "Epoch 1: loss=0.0466 | val_loss=0.0466\n",
      "Epoch 2: loss=0.0466 | val_loss=0.0466\n",
      "Epoch 3: loss=0.0466 | val_loss=0.0466\n",
      "Epoch 4: loss=0.0466 | val_loss=0.0466\n",
      "Epoch 5: loss=0.0466 | val_loss=0.0466\n",
      "Epoch 6: loss=0.0466 | val_loss=0.0466\n",
      "Epoch 7: loss=0.0466 | val_loss=0.0466\n",
      "Epoch 8: loss=0.0466 | val_loss=0.0466\n",
      "Epoch 9: loss=0.0466 | val_loss=0.0466\n",
      "Epoch 10: loss=0.0466 | val_loss=0.0466\n"
     ]
    }
   ],
   "source": [
    "torch.autograd.set_detect_anomaly(True)\n",
    "\n",
    "model = SimpleClassifier(input_dim=X_test.shape[1])\n",
    "loss = nn.CrossEntropyLoss()\n",
    "optimizer = torch.optim.SGD(params=model.parameters(),lr=lr)\n",
    "\n",
    "for epoch in range(epochs):\n",
    "    model.train()\n",
    "    total_loss = 0\n",
    "    for xb, yb in train_dl:\n",
    "        optimizer.zero_grad()\n",
    "        pred = model(xb)\n",
    "        batch_loss = loss(pred, yb)\n",
    "        batch_loss.backward()\n",
    "        optimizer.step()\n",
    "        total_loss+=batch_loss.item()\n",
    "    avg_loss = total_loss / X_train.shape[1]\n",
    "\n",
    "    val_loss = 0\n",
    "    model.train(False)\n",
    "    with torch.no_grad():\n",
    "        for xb, yb in test_dl:\n",
    "            pred = model(xb)\n",
    "            batch_loss = loss(pred, yb)\n",
    "            val_loss += batch_loss.item()\n",
    "    \n",
    "    ang_val = val_loss / X_test.shape[1]\n",
    "    print(f\"Epoch {epoch+1}: loss={avg_loss:.4f} | val_loss={ang_val:.4f}\")\n"
   ]
  },
  {
   "cell_type": "code",
   "execution_count": 92,
   "metadata": {},
   "outputs": [
    {
     "data": {
      "image/png": "[encoded data removed]",
      "text/plain": [
       "<Figure size 640x480 with 1 Axes>"
      ]
     },
     "metadata": {},
     "output_type": "display_data"
    },
    {
     "data": {
      "text/plain": [
       "0.278"
      ]
     },
     "execution_count": 92,
     "metadata": {},
     "output_type": "execute_result"
    }
   ],
   "source": [
    "import matplotlib.pyplot as plt\n",
    "from sklearn.metrics import accuracy_score\n",
    "\n",
    "pred_labels = model(X_test).argmax(dim=1)\n",
    "plt.hist(pred_labels)\n",
    "plt.hist(y_test, alpha=0.3)\n",
    "plt.show()\n",
    "accuracy_score(y_test, pred_labels)"
   ]
  }
 ],
 "metadata": {
  "kernelspec": {
   "display_name": "venv",
   "language": "python",
   "name": "python3"
  },
  "language_info": {
   "codemirror_mode": {
    "name": "ipython",
    "version": 3
   },
   "file_extension": ".py",
   "mimetype": "text/x-python",
   "name": "python",
   "nbconvert_exporter": "python",
   "pygments_lexer": "ipython3",
   "version": "3.11.5"
  }
 },
 "nbformat": 4,
 "nbformat_minor": 2
}
